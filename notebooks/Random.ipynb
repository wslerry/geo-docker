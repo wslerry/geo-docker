{
 "cells": [
  {
   "cell_type": "code",
   "execution_count": null,
   "id": "a88248fe-07a0-40c5-aeec-dd42c4787d25",
   "metadata": {},
   "outputs": [],
   "source": [
    "%matplotlib inline\n",
    "\n",
    "from src import RandomPointsInBounds"
   ]
  },
  {
   "cell_type": "code",
   "execution_count": null,
   "id": "6a9f70db-1f45-4ec8-84dd-3f46639e4431",
   "metadata": {},
   "outputs": [],
   "source": [
    "aoi = './data/swk.gpkg'\n",
    "lyr_name = 'Sarawak'\n",
    "n_points = 10\n",
    "min_distance = 100 # meters\n",
    "\n",
    "params = {\n",
    "    \"input_polygon\": aoi,\n",
    "    \"input_layer_name\": lyr_name,\n",
    "    \"output_polygon\": './data/test_output.gpkg',\n",
    "    \"n_points\": n_points,\n",
    "    \"minimum_distance\": min_distance,\n",
    "}\n",
    "rand_pts = RandomPointsInBounds(**params)"
   ]
  },
  {
   "cell_type": "code",
   "execution_count": null,
   "id": "6df35761-7067-4764-9aac-1efde4bfae8b",
   "metadata": {},
   "outputs": [],
   "source": [
    "rand_pts.plot()"
   ]
  },
  {
   "cell_type": "code",
   "execution_count": null,
   "id": "a05aa88d-235d-4962-839d-9ea80dcfb810",
   "metadata": {},
   "outputs": [],
   "source": [
    "rand_pts.save()"
   ]
  }
 ],
 "metadata": {
  "kernelspec": {
   "display_name": "Python 3 (ipykernel)",
   "language": "python",
   "name": "python3"
  },
  "language_info": {
   "codemirror_mode": {
    "name": "ipython",
    "version": 3
   },
   "file_extension": ".py",
   "mimetype": "text/x-python",
   "name": "python",
   "nbconvert_exporter": "python",
   "pygments_lexer": "ipython3",
   "version": "3.8.17"
  }
 },
 "nbformat": 4,
 "nbformat_minor": 5
}
