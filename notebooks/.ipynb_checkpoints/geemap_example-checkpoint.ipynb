{
 "cells": [
  {
   "cell_type": "code",
   "execution_count": null,
   "id": "d68069cd-be48-476a-a592-f8c438f43704",
   "metadata": {},
   "outputs": [],
   "source": [
    "import ee\n",
    "import geemap"
   ]
  },
  {
   "cell_type": "code",
   "execution_count": null,
   "id": "b52f8311-14ce-481a-8c0c-e4ed6caa985e",
   "metadata": {},
   "outputs": [],
   "source": [
    "Map = geemap.Map(center=[40,-100], zoom=4)\n",
    "Map"
   ]
  },
  {
   "cell_type": "code",
   "execution_count": null,
   "id": "31f61037-3b7d-42c2-8b2a-b414aacdcd4a",
   "metadata": {
    "scrolled": true
   },
   "outputs": [],
   "source": [
    "# Add Earth Engine dataset\n",
    "# traditional python string\n",
    "print('Hello world!')\n",
    "\n",
    "# Earth Eninge object\n",
    "print(ee.String('Hello World from Earth Engine!').getInfo())\n",
    "print(ee.Image('LANDSAT/LC08/C01/T1/LC08_044034_20140318').getInfo())"
   ]
  },
  {
   "cell_type": "code",
   "execution_count": null,
   "id": "f9a38c0f-a532-42e7-a8ac-026d475caf22",
   "metadata": {},
   "outputs": [],
   "source": [
    "# Add Earth Engine dataset\n",
    "# Load an image.\n",
    "image = ee.Image('LANDSAT/LC08/C01/T1_TOA/LC08_044034_20140318')\n",
    "# image = ee.Image('LANDSAT/LC08/C01/T1/LC08_044034_20140318')\n",
    "\n",
    "# Define the visualization parameters.\n",
    "vizParams = {\n",
    "  'bands': ['B5', 'B4', 'B3'],\n",
    "  'min': 0,\n",
    "  'max': 0.5,\n",
    "  'gamma': [0.95, 1.1, 1]\n",
    "}\n",
    "\n",
    "# Center the map and display the image.\n",
    "Map.setCenter(-122.1899, 37.5010, 10) # San Francisco Bay\n",
    "Map.addLayer(image, vizParams, 'false color composite')"
   ]
  },
  {
   "cell_type": "code",
   "execution_count": null,
   "id": "9a431c06-2535-4def-93da-4631253171e6",
   "metadata": {},
   "outputs": [],
   "source": []
  }
 ],
 "metadata": {
  "kernelspec": {
   "display_name": "Python 3 (ipykernel)",
   "language": "python",
   "name": "python3"
  },
  "language_info": {
   "codemirror_mode": {
    "name": "ipython",
    "version": 3
   },
   "file_extension": ".py",
   "mimetype": "text/x-python",
   "name": "python",
   "nbconvert_exporter": "python",
   "pygments_lexer": "ipython3",
   "version": "3.8.17"
  }
 },
 "nbformat": 4,
 "nbformat_minor": 5
}
